{
 "cells": [
  {
   "cell_type": "markdown",
   "metadata": {
    "dc": {
     "key": "4"
    },
    "deletable": false,
    "editable": false,
    "run_control": {
     "frozen": true
    },
    "tags": [
     "context"
    ]
   },
   "source": [
    "## 1. Introduction\n",
    "<p><img src=\"https://assets.datacamp.com/production/project_1197/img/google_play_store.png\" alt=\"Google Play logo\"></p>\n",
    "<p>Mobile apps are everywhere. They are easy to create and can be very lucrative from the business standpoint. Specifically, Android is expanding as an operating system and has captured more than 74% of the total market<sup><a href=\"https://www.statista.com/statistics/272698/global-market-share-held-by-mobile-operating-systems-since-2009\">[1]</a></sup>. </p>\n",
    "<p>The Google Play Store apps data has enormous potential to facilitate data-driven decisions and insights for businesses. In this notebook, we will analyze the Android app market by comparing ~10k apps in Google Play across different categories. We will also use the user reviews to draw a qualitative comparision between the apps.</p>\n",
    "<p>The dataset you will use here was scraped from Google Play Store in September 2018 and was published on <a href=\"https://www.kaggle.com/lava18/google-play-store-apps\">Kaggle</a>. Here are the details: <br>\n",
    "<br></p>\n",
    "<div style=\"background-color: #efebe4; color: #05192d; text-align:left; vertical-align: middle; padding: 15px 25px 15px 25px; line-height: 1.6;\">\n",
    "    <div style=\"font-size:20px\"><b>datasets/apps.csv</b></div>\n",
    "This file contains all the details of the apps on Google Play. There are 9 features that describe a given app.\n",
    "<ul>\n",
    "    <li><b>App:</b> Name of the app</li>\n",
    "    <li><b>Category:</b> Category of the app. Some examples are: ART_AND_DESIGN, FINANCE, COMICS, BEAUTY etc.</li>\n",
    "    <li><b>Rating:</b> The current average rating (out of 5) of the app on Google Play</li>\n",
    "    <li><b>Reviews:</b> Number of user reviews given on the app</li>\n",
    "    <li><b>Size:</b> Size of the app in MB (megabytes)</li>\n",
    "    <li><b>Installs:</b> Number of times the app was downloaded from Google Play</li>\n",
    "    <li><b>Type:</b> Whether the app is paid or free</li>\n",
    "    <li><b>Price:</b> Price of the app in US$</li>\n",
    "    <li><b>Last Updated:</b> Date on which the app was last updated on Google Play </li>\n",
    "\n",
    "</ul>\n",
    "</div>\n",
    "<div style=\"background-color: #efebe4; color: #05192d; text-align:left; vertical-align: middle; padding: 15px 25px 15px 25px; line-height: 1.6;\">\n",
    "    <div style=\"font-size:20px\"><b>datasets/user_reviews.csv</b></div>\n",
    "This file contains a random sample of 100 <i>[most helpful first](https://www.androidpolice.com/2019/01/21/google-play-stores-redesigned-ratings-and-reviews-section-lets-you-easily-filter-by-star-rating/)</i> user reviews for each app. The text in each review has been pre-processed and passed through a sentiment analyzer.\n",
    "<ul>\n",
    "    <li><b>App:</b> Name of the app on which the user review was provided. Matches the `App` column of the `apps.csv` file</li>\n",
    "    <li><b>Review:</b> The pre-processed user review text</li>\n",
    "    <li><b>Sentiment Category:</b> Sentiment category of the user review - Positive, Negative or Neutral</li>\n",
    "    <li><b>Sentiment Score:</b> Sentiment score of the user review. It lies between [-1,1]. A higher score denotes a more positive sentiment.</li>\n",
    "\n",
    "</ul>\n",
    "</div>\n",
    "<p>From here on, it will be your task to explore and manipulate the data until you are able to answer the three questions described in the instructions panel.<br></p>"
   ]
  },
  {
   "cell_type": "markdown",
   "metadata": {},
   "source": [
    "**CODE BEGINS HERE**"
   ]
  },
  {
   "cell_type": "markdown",
   "metadata": {},
   "source": [
    "Import the relevant modules and load the two csv files as DataFrame."
   ]
  },
  {
   "cell_type": "code",
   "execution_count": 2,
   "metadata": {
    "dc": {
     "key": "4"
    },
    "tags": [
     "sample_code"
    ]
   },
   "outputs": [],
   "source": [
    "import pandas as pd"
   ]
  },
  {
   "cell_type": "code",
   "execution_count": 3,
   "metadata": {
    "dc": {
     "key": "4"
    }
   },
   "outputs": [],
   "source": [
    "apps = pd.read_csv('datasets/apps.csv')\n",
    "reviews = pd.read_csv('datasets/user_reviews.csv')"
   ]
  },
  {
   "cell_type": "markdown",
   "metadata": {},
   "source": [
    "Let's get a thorough insight on the dataset using the .info() and .head() methods on the two DataFrames."
   ]
  },
  {
   "cell_type": "code",
   "execution_count": 4,
   "metadata": {
    "dc": {
     "key": "4"
    },
    "scrolled": true
   },
   "outputs": [
    {
     "name": "stdout",
     "output_type": "stream",
     "text": [
      "<class 'pandas.core.frame.DataFrame'>\n",
      "RangeIndex: 9659 entries, 0 to 9658\n",
      "Data columns (total 9 columns):\n",
      " #   Column        Non-Null Count  Dtype  \n",
      "---  ------        --------------  -----  \n",
      " 0   App           9659 non-null   object \n",
      " 1   Category      9659 non-null   object \n",
      " 2   Rating        8196 non-null   float64\n",
      " 3   Reviews       9659 non-null   int64  \n",
      " 4   Size          8432 non-null   float64\n",
      " 5   Installs      9659 non-null   object \n",
      " 6   Type          9659 non-null   object \n",
      " 7   Price         9659 non-null   float64\n",
      " 8   Last Updated  9659 non-null   object \n",
      "dtypes: float64(3), int64(1), object(5)\n",
      "memory usage: 679.3+ KB\n"
     ]
    }
   ],
   "source": [
    "apps.info()"
   ]
  },
  {
   "cell_type": "code",
   "execution_count": 5,
   "metadata": {
    "dc": {
     "key": "4"
    }
   },
   "outputs": [
    {
     "name": "stdout",
     "output_type": "stream",
     "text": [
      "<class 'pandas.core.frame.DataFrame'>\n",
      "RangeIndex: 64295 entries, 0 to 64294\n",
      "Data columns (total 4 columns):\n",
      " #   Column              Non-Null Count  Dtype  \n",
      "---  ------              --------------  -----  \n",
      " 0   App                 64295 non-null  object \n",
      " 1   Review              37427 non-null  object \n",
      " 2   Sentiment Category  37432 non-null  object \n",
      " 3   Sentiment Score     37432 non-null  float64\n",
      "dtypes: float64(1), object(3)\n",
      "memory usage: 2.0+ MB\n"
     ]
    }
   ],
   "source": [
    "reviews.info()"
   ]
  },
  {
   "cell_type": "code",
   "execution_count": 6,
   "metadata": {
    "dc": {
     "key": "4"
    }
   },
   "outputs": [
    {
     "data": {
      "text/html": [
       "<div>\n",
       "<style scoped>\n",
       "    .dataframe tbody tr th:only-of-type {\n",
       "        vertical-align: middle;\n",
       "    }\n",
       "\n",
       "    .dataframe tbody tr th {\n",
       "        vertical-align: top;\n",
       "    }\n",
       "\n",
       "    .dataframe thead th {\n",
       "        text-align: right;\n",
       "    }\n",
       "</style>\n",
       "<table border=\"1\" class=\"dataframe\">\n",
       "  <thead>\n",
       "    <tr style=\"text-align: right;\">\n",
       "      <th></th>\n",
       "      <th>App</th>\n",
       "      <th>Review</th>\n",
       "      <th>Sentiment Category</th>\n",
       "      <th>Sentiment Score</th>\n",
       "    </tr>\n",
       "  </thead>\n",
       "  <tbody>\n",
       "    <tr>\n",
       "      <th>0</th>\n",
       "      <td>10 Best Foods for You</td>\n",
       "      <td>I like eat delicious food. That's I'm cooking ...</td>\n",
       "      <td>Positive</td>\n",
       "      <td>1.00</td>\n",
       "    </tr>\n",
       "    <tr>\n",
       "      <th>1</th>\n",
       "      <td>10 Best Foods for You</td>\n",
       "      <td>This help eating healthy exercise regular basis</td>\n",
       "      <td>Positive</td>\n",
       "      <td>0.25</td>\n",
       "    </tr>\n",
       "    <tr>\n",
       "      <th>2</th>\n",
       "      <td>10 Best Foods for You</td>\n",
       "      <td>NaN</td>\n",
       "      <td>NaN</td>\n",
       "      <td>NaN</td>\n",
       "    </tr>\n",
       "    <tr>\n",
       "      <th>3</th>\n",
       "      <td>10 Best Foods for You</td>\n",
       "      <td>Works great especially going grocery store</td>\n",
       "      <td>Positive</td>\n",
       "      <td>0.40</td>\n",
       "    </tr>\n",
       "    <tr>\n",
       "      <th>4</th>\n",
       "      <td>10 Best Foods for You</td>\n",
       "      <td>Best idea us</td>\n",
       "      <td>Positive</td>\n",
       "      <td>1.00</td>\n",
       "    </tr>\n",
       "  </tbody>\n",
       "</table>\n",
       "</div>"
      ],
      "text/plain": [
       "                     App                                             Review  \\\n",
       "0  10 Best Foods for You  I like eat delicious food. That's I'm cooking ...   \n",
       "1  10 Best Foods for You    This help eating healthy exercise regular basis   \n",
       "2  10 Best Foods for You                                                NaN   \n",
       "3  10 Best Foods for You         Works great especially going grocery store   \n",
       "4  10 Best Foods for You                                       Best idea us   \n",
       "\n",
       "  Sentiment Category  Sentiment Score  \n",
       "0           Positive             1.00  \n",
       "1           Positive             0.25  \n",
       "2                NaN              NaN  \n",
       "3           Positive             0.40  \n",
       "4           Positive             1.00  "
      ]
     },
     "execution_count": 6,
     "metadata": {},
     "output_type": "execute_result"
    }
   ],
   "source": [
    "reviews.head()"
   ]
  },
  {
   "cell_type": "markdown",
   "metadata": {},
   "source": [
    "The .sample() method is used to generate a random sample of data from the DataFrame. It is better than the .head() method as more diverse data can be examined."
   ]
  },
  {
   "cell_type": "code",
   "execution_count": 7,
   "metadata": {
    "dc": {
     "key": "4"
    }
   },
   "outputs": [
    {
     "data": {
      "text/html": [
       "<div>\n",
       "<style scoped>\n",
       "    .dataframe tbody tr th:only-of-type {\n",
       "        vertical-align: middle;\n",
       "    }\n",
       "\n",
       "    .dataframe tbody tr th {\n",
       "        vertical-align: top;\n",
       "    }\n",
       "\n",
       "    .dataframe thead th {\n",
       "        text-align: right;\n",
       "    }\n",
       "</style>\n",
       "<table border=\"1\" class=\"dataframe\">\n",
       "  <thead>\n",
       "    <tr style=\"text-align: right;\">\n",
       "      <th></th>\n",
       "      <th>App</th>\n",
       "      <th>Category</th>\n",
       "      <th>Rating</th>\n",
       "      <th>Reviews</th>\n",
       "      <th>Size</th>\n",
       "      <th>Installs</th>\n",
       "      <th>Type</th>\n",
       "      <th>Price</th>\n",
       "      <th>Last Updated</th>\n",
       "    </tr>\n",
       "  </thead>\n",
       "  <tbody>\n",
       "    <tr>\n",
       "      <th>3341</th>\n",
       "      <td>My Android Device S/W &amp; H/W</td>\n",
       "      <td>FAMILY</td>\n",
       "      <td>4.5</td>\n",
       "      <td>681</td>\n",
       "      <td>2.8</td>\n",
       "      <td>50,000+</td>\n",
       "      <td>Free</td>\n",
       "      <td>0.0</td>\n",
       "      <td>November 20, 2015</td>\n",
       "    </tr>\n",
       "    <tr>\n",
       "      <th>8719</th>\n",
       "      <td>Flag Of European Union LWP</td>\n",
       "      <td>PERSONALIZATION</td>\n",
       "      <td>4.3</td>\n",
       "      <td>88</td>\n",
       "      <td>4.2</td>\n",
       "      <td>1,000+</td>\n",
       "      <td>Free</td>\n",
       "      <td>0.0</td>\n",
       "      <td>January 24, 2018</td>\n",
       "    </tr>\n",
       "    <tr>\n",
       "      <th>7525</th>\n",
       "      <td>Cursive Writing Wizard - Handwriting</td>\n",
       "      <td>FAMILY</td>\n",
       "      <td>4.0</td>\n",
       "      <td>3745</td>\n",
       "      <td>31.0</td>\n",
       "      <td>1,000,000+</td>\n",
       "      <td>Free</td>\n",
       "      <td>0.0</td>\n",
       "      <td>December 3, 2017</td>\n",
       "    </tr>\n",
       "    <tr>\n",
       "      <th>6042</th>\n",
       "      <td>CA Mobile OTP</td>\n",
       "      <td>TOOLS</td>\n",
       "      <td>3.3</td>\n",
       "      <td>688</td>\n",
       "      <td>5.5</td>\n",
       "      <td>100,000+</td>\n",
       "      <td>Free</td>\n",
       "      <td>0.0</td>\n",
       "      <td>September 5, 2017</td>\n",
       "    </tr>\n",
       "    <tr>\n",
       "      <th>8170</th>\n",
       "      <td>EF Forms</td>\n",
       "      <td>BUSINESS</td>\n",
       "      <td>5.0</td>\n",
       "      <td>2</td>\n",
       "      <td>23.0</td>\n",
       "      <td>50+</td>\n",
       "      <td>Free</td>\n",
       "      <td>0.0</td>\n",
       "      <td>July 24, 2018</td>\n",
       "    </tr>\n",
       "    <tr>\n",
       "      <th>498</th>\n",
       "      <td>Chatting - Free chat, random chat, boyfriend, ...</td>\n",
       "      <td>DATING</td>\n",
       "      <td>4.2</td>\n",
       "      <td>2506</td>\n",
       "      <td>6.1</td>\n",
       "      <td>500,000+</td>\n",
       "      <td>Free</td>\n",
       "      <td>0.0</td>\n",
       "      <td>June 15, 2017</td>\n",
       "    </tr>\n",
       "    <tr>\n",
       "      <th>7398</th>\n",
       "      <td>Salah Widget (DK+Malmo)</td>\n",
       "      <td>LIFESTYLE</td>\n",
       "      <td>4.5</td>\n",
       "      <td>532</td>\n",
       "      <td>6.4</td>\n",
       "      <td>10,000+</td>\n",
       "      <td>Free</td>\n",
       "      <td>0.0</td>\n",
       "      <td>June 28, 2015</td>\n",
       "    </tr>\n",
       "    <tr>\n",
       "      <th>5023</th>\n",
       "      <td>Upohar BD</td>\n",
       "      <td>BUSINESS</td>\n",
       "      <td>3.4</td>\n",
       "      <td>9</td>\n",
       "      <td>1.7</td>\n",
       "      <td>1,000+</td>\n",
       "      <td>Free</td>\n",
       "      <td>0.0</td>\n",
       "      <td>October 8, 2016</td>\n",
       "    </tr>\n",
       "    <tr>\n",
       "      <th>7454</th>\n",
       "      <td>DM airdisk</td>\n",
       "      <td>TOOLS</td>\n",
       "      <td>2.8</td>\n",
       "      <td>11</td>\n",
       "      <td>11.0</td>\n",
       "      <td>1,000+</td>\n",
       "      <td>Free</td>\n",
       "      <td>0.0</td>\n",
       "      <td>August 5, 2016</td>\n",
       "    </tr>\n",
       "    <tr>\n",
       "      <th>2571</th>\n",
       "      <td>Fraction Calculator Plus Free</td>\n",
       "      <td>TOOLS</td>\n",
       "      <td>4.5</td>\n",
       "      <td>148506</td>\n",
       "      <td>11.0</td>\n",
       "      <td>5,000,000+</td>\n",
       "      <td>Free</td>\n",
       "      <td>0.0</td>\n",
       "      <td>July 15, 2018</td>\n",
       "    </tr>\n",
       "  </tbody>\n",
       "</table>\n",
       "</div>"
      ],
      "text/plain": [
       "                                                    App         Category  \\\n",
       "3341                        My Android Device S/W & H/W           FAMILY   \n",
       "8719                         Flag Of European Union LWP  PERSONALIZATION   \n",
       "7525               Cursive Writing Wizard - Handwriting           FAMILY   \n",
       "6042                                      CA Mobile OTP            TOOLS   \n",
       "8170                                           EF Forms         BUSINESS   \n",
       "498   Chatting - Free chat, random chat, boyfriend, ...           DATING   \n",
       "7398                            Salah Widget (DK+Malmo)        LIFESTYLE   \n",
       "5023                                          Upohar BD         BUSINESS   \n",
       "7454                                         DM airdisk            TOOLS   \n",
       "2571                      Fraction Calculator Plus Free            TOOLS   \n",
       "\n",
       "      Rating  Reviews  Size    Installs  Type  Price       Last Updated  \n",
       "3341     4.5      681   2.8     50,000+  Free    0.0  November 20, 2015  \n",
       "8719     4.3       88   4.2      1,000+  Free    0.0   January 24, 2018  \n",
       "7525     4.0     3745  31.0  1,000,000+  Free    0.0   December 3, 2017  \n",
       "6042     3.3      688   5.5    100,000+  Free    0.0  September 5, 2017  \n",
       "8170     5.0        2  23.0         50+  Free    0.0      July 24, 2018  \n",
       "498      4.2     2506   6.1    500,000+  Free    0.0      June 15, 2017  \n",
       "7398     4.5      532   6.4     10,000+  Free    0.0      June 28, 2015  \n",
       "5023     3.4        9   1.7      1,000+  Free    0.0    October 8, 2016  \n",
       "7454     2.8       11  11.0      1,000+  Free    0.0     August 5, 2016  \n",
       "2571     4.5   148506  11.0  5,000,000+  Free    0.0      July 15, 2018  "
      ]
     },
     "execution_count": 7,
     "metadata": {},
     "output_type": "execute_result"
    }
   ],
   "source": [
    "apps.sample(10)"
   ]
  },
  {
   "cell_type": "markdown",
   "metadata": {},
   "source": [
    "The first task was to convert the values on 'Installs' column in the dataset to an integer value. Originally, the 'Installs' column contained String values.\n",
    "\n",
    "\n",
    "To convert the column to integer, we first need to remove special signs, like the '+' and ',' signs present in values on the 'Installs' column. We did that using the replace() method on the Series. The result was a string, but without the operator signs. We then used the to_numeric() function from Pandas to convert the Series from string (referred to in pandas as Object data type) to int64 type."
   ]
  },
  {
   "cell_type": "code",
   "execution_count": 8,
   "metadata": {
    "dc": {
     "key": "4"
    }
   },
   "outputs": [],
   "source": [
    "# Removing special characters from the 'Installs' column.\n",
    "\n",
    "chars_to_replace = [',', '+']\n",
    "\n",
    "for char in chars_to_replace:\n",
    "    apps['Installs'] = apps['Installs'].str.replace(char, '', regex=False)\n",
    "apps['Installs'] = pd.to_numeric(apps['Installs'], errors='raise')"
   ]
  },
  {
   "cell_type": "markdown",
   "metadata": {},
   "source": [
    "We can see that the Installs column is now of data type int64."
   ]
  },
  {
   "cell_type": "code",
   "execution_count": 9,
   "metadata": {
    "dc": {
     "key": "4"
    }
   },
   "outputs": [
    {
     "name": "stdout",
     "output_type": "stream",
     "text": [
      "<class 'pandas.core.frame.DataFrame'>\n",
      "RangeIndex: 9659 entries, 0 to 9658\n",
      "Data columns (total 9 columns):\n",
      " #   Column        Non-Null Count  Dtype  \n",
      "---  ------        --------------  -----  \n",
      " 0   App           9659 non-null   object \n",
      " 1   Category      9659 non-null   object \n",
      " 2   Rating        8196 non-null   float64\n",
      " 3   Reviews       9659 non-null   int64  \n",
      " 4   Size          8432 non-null   float64\n",
      " 5   Installs      9659 non-null   int64  \n",
      " 6   Type          9659 non-null   object \n",
      " 7   Price         9659 non-null   float64\n",
      " 8   Last Updated  9659 non-null   object \n",
      "dtypes: float64(3), int64(2), object(4)\n",
      "memory usage: 679.3+ KB\n"
     ]
    }
   ],
   "source": [
    "apps.info()"
   ]
  },
  {
   "cell_type": "markdown",
   "metadata": {},
   "source": [
    "Again, let's have a look at the modified apps DataFrame."
   ]
  },
  {
   "cell_type": "code",
   "execution_count": 10,
   "metadata": {
    "dc": {
     "key": "4"
    }
   },
   "outputs": [
    {
     "data": {
      "text/html": [
       "<div>\n",
       "<style scoped>\n",
       "    .dataframe tbody tr th:only-of-type {\n",
       "        vertical-align: middle;\n",
       "    }\n",
       "\n",
       "    .dataframe tbody tr th {\n",
       "        vertical-align: top;\n",
       "    }\n",
       "\n",
       "    .dataframe thead th {\n",
       "        text-align: right;\n",
       "    }\n",
       "</style>\n",
       "<table border=\"1\" class=\"dataframe\">\n",
       "  <thead>\n",
       "    <tr style=\"text-align: right;\">\n",
       "      <th></th>\n",
       "      <th>App</th>\n",
       "      <th>Category</th>\n",
       "      <th>Rating</th>\n",
       "      <th>Reviews</th>\n",
       "      <th>Size</th>\n",
       "      <th>Installs</th>\n",
       "      <th>Type</th>\n",
       "      <th>Price</th>\n",
       "      <th>Last Updated</th>\n",
       "    </tr>\n",
       "  </thead>\n",
       "  <tbody>\n",
       "    <tr>\n",
       "      <th>5628</th>\n",
       "      <td>Theme for Android 7.0</td>\n",
       "      <td>PERSONALIZATION</td>\n",
       "      <td>NaN</td>\n",
       "      <td>0</td>\n",
       "      <td>NaN</td>\n",
       "      <td>5000</td>\n",
       "      <td>Free</td>\n",
       "      <td>0.00</td>\n",
       "      <td>October 18, 2017</td>\n",
       "    </tr>\n",
       "    <tr>\n",
       "      <th>6697</th>\n",
       "      <td>iReadMe</td>\n",
       "      <td>PRODUCTIVITY</td>\n",
       "      <td>5.0</td>\n",
       "      <td>8</td>\n",
       "      <td>22.0</td>\n",
       "      <td>100</td>\n",
       "      <td>Free</td>\n",
       "      <td>0.00</td>\n",
       "      <td>March 6, 2018</td>\n",
       "    </tr>\n",
       "    <tr>\n",
       "      <th>646</th>\n",
       "      <td>GRE Prep &amp; Practice by Magoosh</td>\n",
       "      <td>EDUCATION</td>\n",
       "      <td>4.4</td>\n",
       "      <td>3963</td>\n",
       "      <td>NaN</td>\n",
       "      <td>100000</td>\n",
       "      <td>Free</td>\n",
       "      <td>0.00</td>\n",
       "      <td>June 6, 2018</td>\n",
       "    </tr>\n",
       "    <tr>\n",
       "      <th>9485</th>\n",
       "      <td>FN FAL rifle explained</td>\n",
       "      <td>BOOKS_AND_REFERENCE</td>\n",
       "      <td>NaN</td>\n",
       "      <td>1</td>\n",
       "      <td>7.3</td>\n",
       "      <td>10</td>\n",
       "      <td>Paid</td>\n",
       "      <td>6.49</td>\n",
       "      <td>September 6, 2015</td>\n",
       "    </tr>\n",
       "    <tr>\n",
       "      <th>6267</th>\n",
       "      <td>Best CG Photography</td>\n",
       "      <td>FAMILY</td>\n",
       "      <td>NaN</td>\n",
       "      <td>1</td>\n",
       "      <td>2.5</td>\n",
       "      <td>500</td>\n",
       "      <td>Free</td>\n",
       "      <td>0.00</td>\n",
       "      <td>June 24, 2015</td>\n",
       "    </tr>\n",
       "    <tr>\n",
       "      <th>6310</th>\n",
       "      <td>DRAGON QUEST IV</td>\n",
       "      <td>FAMILY</td>\n",
       "      <td>4.7</td>\n",
       "      <td>1647</td>\n",
       "      <td>16.0</td>\n",
       "      <td>10000</td>\n",
       "      <td>Paid</td>\n",
       "      <td>14.99</td>\n",
       "      <td>February 28, 2017</td>\n",
       "    </tr>\n",
       "    <tr>\n",
       "      <th>9361</th>\n",
       "      <td>FK Liepaja</td>\n",
       "      <td>SPORTS</td>\n",
       "      <td>NaN</td>\n",
       "      <td>4</td>\n",
       "      <td>26.0</td>\n",
       "      <td>100</td>\n",
       "      <td>Free</td>\n",
       "      <td>0.00</td>\n",
       "      <td>March 17, 2018</td>\n",
       "    </tr>\n",
       "    <tr>\n",
       "      <th>9400</th>\n",
       "      <td>Scratch-Off Guide for FL Lotto</td>\n",
       "      <td>FAMILY</td>\n",
       "      <td>4.6</td>\n",
       "      <td>25</td>\n",
       "      <td>5.6</td>\n",
       "      <td>5000</td>\n",
       "      <td>Free</td>\n",
       "      <td>0.00</td>\n",
       "      <td>July 4, 2018</td>\n",
       "    </tr>\n",
       "    <tr>\n",
       "      <th>3759</th>\n",
       "      <td>Grand Theft Auto V: The Manual</td>\n",
       "      <td>FAMILY</td>\n",
       "      <td>4.1</td>\n",
       "      <td>182103</td>\n",
       "      <td>6.9</td>\n",
       "      <td>5000000</td>\n",
       "      <td>Free</td>\n",
       "      <td>0.00</td>\n",
       "      <td>July 31, 2018</td>\n",
       "    </tr>\n",
       "    <tr>\n",
       "      <th>5040</th>\n",
       "      <td>BANGLA TV 3G/4G</td>\n",
       "      <td>SPORTS</td>\n",
       "      <td>4.1</td>\n",
       "      <td>142</td>\n",
       "      <td>5.3</td>\n",
       "      <td>100000</td>\n",
       "      <td>Free</td>\n",
       "      <td>0.00</td>\n",
       "      <td>June 7, 2018</td>\n",
       "    </tr>\n",
       "  </tbody>\n",
       "</table>\n",
       "</div>"
      ],
      "text/plain": [
       "                                 App             Category  Rating  Reviews  \\\n",
       "5628           Theme for Android 7.0      PERSONALIZATION     NaN        0   \n",
       "6697                         iReadMe         PRODUCTIVITY     5.0        8   \n",
       "646   GRE Prep & Practice by Magoosh            EDUCATION     4.4     3963   \n",
       "9485          FN FAL rifle explained  BOOKS_AND_REFERENCE     NaN        1   \n",
       "6267             Best CG Photography               FAMILY     NaN        1   \n",
       "6310                 DRAGON QUEST IV               FAMILY     4.7     1647   \n",
       "9361                      FK Liepaja               SPORTS     NaN        4   \n",
       "9400  Scratch-Off Guide for FL Lotto               FAMILY     4.6       25   \n",
       "3759  Grand Theft Auto V: The Manual               FAMILY     4.1   182103   \n",
       "5040                 BANGLA TV 3G/4G               SPORTS     4.1      142   \n",
       "\n",
       "      Size  Installs  Type  Price       Last Updated  \n",
       "5628   NaN      5000  Free   0.00   October 18, 2017  \n",
       "6697  22.0       100  Free   0.00      March 6, 2018  \n",
       "646    NaN    100000  Free   0.00       June 6, 2018  \n",
       "9485   7.3        10  Paid   6.49  September 6, 2015  \n",
       "6267   2.5       500  Free   0.00      June 24, 2015  \n",
       "6310  16.0     10000  Paid  14.99  February 28, 2017  \n",
       "9361  26.0       100  Free   0.00     March 17, 2018  \n",
       "9400   5.6      5000  Free   0.00       July 4, 2018  \n",
       "3759   6.9   5000000  Free   0.00      July 31, 2018  \n",
       "5040   5.3    100000  Free   0.00       June 7, 2018  "
      ]
     },
     "execution_count": 10,
     "metadata": {},
     "output_type": "execute_result"
    }
   ],
   "source": [
    "apps.sample(10)"
   ]
  },
  {
   "cell_type": "markdown",
   "metadata": {},
   "source": [
    "We can also see that the Date is of type 'str'. There is a special data type in Python, called datetime, which is used to process date/ time values. So, let's look at converting the values from the 'Last Updated' column to type datetime.\n",
    "\n",
    "pandas has a valuable function called to_datetime(), which is similar to the to_numeric() function we used earlier. However, in this function, we need to specify the format of the date/ time in the present column. For this, we can use metacharacters. Metacharacters are special characters that represent certain values in Python.\n",
    "\n",
    "I looked up the key for metacharacters at the strftime docs available at https://docs.python.org/3/library/datetime.html#strftime-and-strptime-behavior."
   ]
  },
  {
   "cell_type": "code",
   "execution_count": 11,
   "metadata": {
    "dc": {
     "key": "4"
    }
   },
   "outputs": [],
   "source": [
    "date = pd.to_datetime(apps['Last Updated'], format = '%B %d, %Y')\n",
    "apps['Last Updated'] = date"
   ]
  },
  {
   "cell_type": "code",
   "execution_count": 12,
   "metadata": {},
   "outputs": [
    {
     "name": "stdout",
     "output_type": "stream",
     "text": [
      "<class 'pandas.core.frame.DataFrame'>\n",
      "RangeIndex: 9659 entries, 0 to 9658\n",
      "Data columns (total 9 columns):\n",
      " #   Column        Non-Null Count  Dtype         \n",
      "---  ------        --------------  -----         \n",
      " 0   App           9659 non-null   object        \n",
      " 1   Category      9659 non-null   object        \n",
      " 2   Rating        8196 non-null   float64       \n",
      " 3   Reviews       9659 non-null   int64         \n",
      " 4   Size          8432 non-null   float64       \n",
      " 5   Installs      9659 non-null   int64         \n",
      " 6   Type          9659 non-null   object        \n",
      " 7   Price         9659 non-null   float64       \n",
      " 8   Last Updated  9659 non-null   datetime64[ns]\n",
      "dtypes: datetime64[ns](1), float64(3), int64(2), object(3)\n",
      "memory usage: 679.3+ KB\n"
     ]
    }
   ],
   "source": [
    "apps.info()"
   ]
  },
  {
   "cell_type": "markdown",
   "metadata": {},
   "source": []
  },
  {
   "cell_type": "markdown",
   "metadata": {},
   "source": [
    "For the next specified task, we were to find the number of apps in each category, the average price, and the average rating. The answer was to be saved as a DataFrame called app_category_info, with the four columns named: Category, Number of apps, Average price, Average rating."
   ]
  },
  {
   "cell_type": "markdown",
   "metadata": {},
   "source": [
    "Now, we need to group the rows by 'Category' as specified in the question. Then, we count the number of apps using the count() method on the GroupBy object generated using the groupby() method. Similarly, we use the agg() method to calculate the averages for the price and rating for all groups in the category. "
   ]
  },
  {
   "cell_type": "code",
   "execution_count": 16,
   "metadata": {
    "dc": {
     "key": "4"
    }
   },
   "outputs": [],
   "source": [
    "no_apps_df = apps.groupby('Category')['App'].count()\n",
    "avg_price_df = apps.groupby('Category')['Price'].agg('mean')\n",
    "avg_rating_df = apps.groupby('Category')['Rating'].agg('mean')"
   ]
  },
  {
   "cell_type": "code",
   "execution_count": 17,
   "metadata": {
    "dc": {
     "key": "4"
    }
   },
   "outputs": [],
   "source": [
    "app_category_info = pd.DataFrame(data = {\n",
    "                     'Number of apps':no_apps_df, \n",
    "                     'Average price':avg_price_df, \n",
    "                     'Average rating':avg_rating_df})"
   ]
  },
  {
   "cell_type": "code",
   "execution_count": 18,
   "metadata": {
    "dc": {
     "key": "4"
    }
   },
   "outputs": [
    {
     "data": {
      "text/html": [
       "<div>\n",
       "<style scoped>\n",
       "    .dataframe tbody tr th:only-of-type {\n",
       "        vertical-align: middle;\n",
       "    }\n",
       "\n",
       "    .dataframe tbody tr th {\n",
       "        vertical-align: top;\n",
       "    }\n",
       "\n",
       "    .dataframe thead th {\n",
       "        text-align: right;\n",
       "    }\n",
       "</style>\n",
       "<table border=\"1\" class=\"dataframe\">\n",
       "  <thead>\n",
       "    <tr style=\"text-align: right;\">\n",
       "      <th></th>\n",
       "      <th>Category</th>\n",
       "      <th>Number of apps</th>\n",
       "      <th>Average price</th>\n",
       "      <th>Average rating</th>\n",
       "    </tr>\n",
       "  </thead>\n",
       "  <tbody>\n",
       "    <tr>\n",
       "      <th>0</th>\n",
       "      <td>ART_AND_DESIGN</td>\n",
       "      <td>64</td>\n",
       "      <td>0.093281</td>\n",
       "      <td>4.357377</td>\n",
       "    </tr>\n",
       "    <tr>\n",
       "      <th>1</th>\n",
       "      <td>AUTO_AND_VEHICLES</td>\n",
       "      <td>85</td>\n",
       "      <td>0.158471</td>\n",
       "      <td>4.190411</td>\n",
       "    </tr>\n",
       "    <tr>\n",
       "      <th>2</th>\n",
       "      <td>BEAUTY</td>\n",
       "      <td>53</td>\n",
       "      <td>0.000000</td>\n",
       "      <td>4.278571</td>\n",
       "    </tr>\n",
       "    <tr>\n",
       "      <th>3</th>\n",
       "      <td>BOOKS_AND_REFERENCE</td>\n",
       "      <td>222</td>\n",
       "      <td>0.539505</td>\n",
       "      <td>4.344970</td>\n",
       "    </tr>\n",
       "    <tr>\n",
       "      <th>4</th>\n",
       "      <td>BUSINESS</td>\n",
       "      <td>420</td>\n",
       "      <td>0.417357</td>\n",
       "      <td>4.098479</td>\n",
       "    </tr>\n",
       "    <tr>\n",
       "      <th>5</th>\n",
       "      <td>COMICS</td>\n",
       "      <td>56</td>\n",
       "      <td>0.000000</td>\n",
       "      <td>4.181481</td>\n",
       "    </tr>\n",
       "    <tr>\n",
       "      <th>6</th>\n",
       "      <td>COMMUNICATION</td>\n",
       "      <td>315</td>\n",
       "      <td>0.263937</td>\n",
       "      <td>4.121484</td>\n",
       "    </tr>\n",
       "    <tr>\n",
       "      <th>7</th>\n",
       "      <td>DATING</td>\n",
       "      <td>171</td>\n",
       "      <td>0.160468</td>\n",
       "      <td>3.970149</td>\n",
       "    </tr>\n",
       "    <tr>\n",
       "      <th>8</th>\n",
       "      <td>EDUCATION</td>\n",
       "      <td>119</td>\n",
       "      <td>0.150924</td>\n",
       "      <td>4.364407</td>\n",
       "    </tr>\n",
       "    <tr>\n",
       "      <th>9</th>\n",
       "      <td>ENTERTAINMENT</td>\n",
       "      <td>102</td>\n",
       "      <td>0.078235</td>\n",
       "      <td>4.135294</td>\n",
       "    </tr>\n",
       "    <tr>\n",
       "      <th>10</th>\n",
       "      <td>EVENTS</td>\n",
       "      <td>64</td>\n",
       "      <td>1.718594</td>\n",
       "      <td>4.435556</td>\n",
       "    </tr>\n",
       "    <tr>\n",
       "      <th>11</th>\n",
       "      <td>FAMILY</td>\n",
       "      <td>1832</td>\n",
       "      <td>1.309967</td>\n",
       "      <td>4.179664</td>\n",
       "    </tr>\n",
       "    <tr>\n",
       "      <th>12</th>\n",
       "      <td>FINANCE</td>\n",
       "      <td>345</td>\n",
       "      <td>8.408203</td>\n",
       "      <td>4.115563</td>\n",
       "    </tr>\n",
       "    <tr>\n",
       "      <th>13</th>\n",
       "      <td>FOOD_AND_DRINK</td>\n",
       "      <td>112</td>\n",
       "      <td>0.075714</td>\n",
       "      <td>4.172340</td>\n",
       "    </tr>\n",
       "    <tr>\n",
       "      <th>14</th>\n",
       "      <td>GAME</td>\n",
       "      <td>959</td>\n",
       "      <td>0.296465</td>\n",
       "      <td>4.247368</td>\n",
       "    </tr>\n",
       "    <tr>\n",
       "      <th>15</th>\n",
       "      <td>HEALTH_AND_FITNESS</td>\n",
       "      <td>288</td>\n",
       "      <td>0.223438</td>\n",
       "      <td>4.243033</td>\n",
       "    </tr>\n",
       "    <tr>\n",
       "      <th>16</th>\n",
       "      <td>HOUSE_AND_HOME</td>\n",
       "      <td>74</td>\n",
       "      <td>0.000000</td>\n",
       "      <td>4.150000</td>\n",
       "    </tr>\n",
       "    <tr>\n",
       "      <th>17</th>\n",
       "      <td>LIBRARIES_AND_DEMO</td>\n",
       "      <td>84</td>\n",
       "      <td>0.011786</td>\n",
       "      <td>4.178125</td>\n",
       "    </tr>\n",
       "    <tr>\n",
       "      <th>18</th>\n",
       "      <td>LIFESTYLE</td>\n",
       "      <td>369</td>\n",
       "      <td>6.398022</td>\n",
       "      <td>4.093355</td>\n",
       "    </tr>\n",
       "    <tr>\n",
       "      <th>19</th>\n",
       "      <td>MAPS_AND_NAVIGATION</td>\n",
       "      <td>131</td>\n",
       "      <td>0.205725</td>\n",
       "      <td>4.036441</td>\n",
       "    </tr>\n",
       "    <tr>\n",
       "      <th>20</th>\n",
       "      <td>MEDICAL</td>\n",
       "      <td>395</td>\n",
       "      <td>2.520759</td>\n",
       "      <td>4.166552</td>\n",
       "    </tr>\n",
       "    <tr>\n",
       "      <th>21</th>\n",
       "      <td>NEWS_AND_MAGAZINES</td>\n",
       "      <td>254</td>\n",
       "      <td>0.015669</td>\n",
       "      <td>4.121569</td>\n",
       "    </tr>\n",
       "    <tr>\n",
       "      <th>22</th>\n",
       "      <td>PARENTING</td>\n",
       "      <td>60</td>\n",
       "      <td>0.159667</td>\n",
       "      <td>4.300000</td>\n",
       "    </tr>\n",
       "    <tr>\n",
       "      <th>23</th>\n",
       "      <td>PERSONALIZATION</td>\n",
       "      <td>376</td>\n",
       "      <td>0.400213</td>\n",
       "      <td>4.332215</td>\n",
       "    </tr>\n",
       "    <tr>\n",
       "      <th>24</th>\n",
       "      <td>PHOTOGRAPHY</td>\n",
       "      <td>281</td>\n",
       "      <td>0.420925</td>\n",
       "      <td>4.157414</td>\n",
       "    </tr>\n",
       "    <tr>\n",
       "      <th>25</th>\n",
       "      <td>PRODUCTIVITY</td>\n",
       "      <td>374</td>\n",
       "      <td>0.670936</td>\n",
       "      <td>4.183389</td>\n",
       "    </tr>\n",
       "    <tr>\n",
       "      <th>26</th>\n",
       "      <td>SHOPPING</td>\n",
       "      <td>202</td>\n",
       "      <td>0.027129</td>\n",
       "      <td>4.230000</td>\n",
       "    </tr>\n",
       "    <tr>\n",
       "      <th>27</th>\n",
       "      <td>SOCIAL</td>\n",
       "      <td>239</td>\n",
       "      <td>0.066820</td>\n",
       "      <td>4.247291</td>\n",
       "    </tr>\n",
       "    <tr>\n",
       "      <th>28</th>\n",
       "      <td>SPORTS</td>\n",
       "      <td>325</td>\n",
       "      <td>0.307692</td>\n",
       "      <td>4.216154</td>\n",
       "    </tr>\n",
       "    <tr>\n",
       "      <th>29</th>\n",
       "      <td>TOOLS</td>\n",
       "      <td>827</td>\n",
       "      <td>0.323156</td>\n",
       "      <td>4.039554</td>\n",
       "    </tr>\n",
       "    <tr>\n",
       "      <th>30</th>\n",
       "      <td>TRAVEL_AND_LOCAL</td>\n",
       "      <td>219</td>\n",
       "      <td>0.228082</td>\n",
       "      <td>4.069519</td>\n",
       "    </tr>\n",
       "    <tr>\n",
       "      <th>31</th>\n",
       "      <td>VIDEO_PLAYERS</td>\n",
       "      <td>163</td>\n",
       "      <td>0.064172</td>\n",
       "      <td>4.044595</td>\n",
       "    </tr>\n",
       "    <tr>\n",
       "      <th>32</th>\n",
       "      <td>WEATHER</td>\n",
       "      <td>79</td>\n",
       "      <td>0.410380</td>\n",
       "      <td>4.243056</td>\n",
       "    </tr>\n",
       "  </tbody>\n",
       "</table>\n",
       "</div>"
      ],
      "text/plain": [
       "               Category  Number of apps  Average price  Average rating\n",
       "0        ART_AND_DESIGN              64       0.093281        4.357377\n",
       "1     AUTO_AND_VEHICLES              85       0.158471        4.190411\n",
       "2                BEAUTY              53       0.000000        4.278571\n",
       "3   BOOKS_AND_REFERENCE             222       0.539505        4.344970\n",
       "4              BUSINESS             420       0.417357        4.098479\n",
       "5                COMICS              56       0.000000        4.181481\n",
       "6         COMMUNICATION             315       0.263937        4.121484\n",
       "7                DATING             171       0.160468        3.970149\n",
       "8             EDUCATION             119       0.150924        4.364407\n",
       "9         ENTERTAINMENT             102       0.078235        4.135294\n",
       "10               EVENTS              64       1.718594        4.435556\n",
       "11               FAMILY            1832       1.309967        4.179664\n",
       "12              FINANCE             345       8.408203        4.115563\n",
       "13       FOOD_AND_DRINK             112       0.075714        4.172340\n",
       "14                 GAME             959       0.296465        4.247368\n",
       "15   HEALTH_AND_FITNESS             288       0.223438        4.243033\n",
       "16       HOUSE_AND_HOME              74       0.000000        4.150000\n",
       "17   LIBRARIES_AND_DEMO              84       0.011786        4.178125\n",
       "18            LIFESTYLE             369       6.398022        4.093355\n",
       "19  MAPS_AND_NAVIGATION             131       0.205725        4.036441\n",
       "20              MEDICAL             395       2.520759        4.166552\n",
       "21   NEWS_AND_MAGAZINES             254       0.015669        4.121569\n",
       "22            PARENTING              60       0.159667        4.300000\n",
       "23      PERSONALIZATION             376       0.400213        4.332215\n",
       "24          PHOTOGRAPHY             281       0.420925        4.157414\n",
       "25         PRODUCTIVITY             374       0.670936        4.183389\n",
       "26             SHOPPING             202       0.027129        4.230000\n",
       "27               SOCIAL             239       0.066820        4.247291\n",
       "28               SPORTS             325       0.307692        4.216154\n",
       "29                TOOLS             827       0.323156        4.039554\n",
       "30     TRAVEL_AND_LOCAL             219       0.228082        4.069519\n",
       "31        VIDEO_PLAYERS             163       0.064172        4.044595\n",
       "32              WEATHER              79       0.410380        4.243056"
      ]
     },
     "execution_count": 18,
     "metadata": {},
     "output_type": "execute_result"
    }
   ],
   "source": [
    "# DATAFRAME CREATED, #2 DONE\n",
    "\n",
    "app_category_info.reset_index()"
   ]
  },
  {
   "cell_type": "markdown",
   "metadata": {},
   "source": [
    "For the third task, we were to find the top 10 free FINANCE apps having the highest average sentiment score. A DataFrame named top_10_user_feedback with the columns App and Sentiment Score was to be created, with the average sentiment scores sorted in descending order."
   ]
  },
  {
   "cell_type": "markdown",
   "metadata": {},
   "source": [
    "We can see from the above output that there are a total of 345 apps in the 'Finance' category."
   ]
  },
  {
   "cell_type": "markdown",
   "metadata": {},
   "source": [
    "Now, to find the average sentiment scores for each app, we need to first have a dataframe consisting of all the apps, their categories and the Sentiment Scores. This means we need to access values from both apps and reviews DataFrames. This can be done by joining the two dataframes on the 'App' column."
   ]
  },
  {
   "cell_type": "code",
   "execution_count": 20,
   "metadata": {
    "dc": {
     "key": "4"
    }
   },
   "outputs": [],
   "source": [
    "score_apps_table = apps.merge(reviews, on='App', how='inner')"
   ]
  },
  {
   "cell_type": "code",
   "execution_count": 21,
   "metadata": {
    "dc": {
     "key": "4"
    }
   },
   "outputs": [
    {
     "data": {
      "text/html": [
       "<div>\n",
       "<style scoped>\n",
       "    .dataframe tbody tr th:only-of-type {\n",
       "        vertical-align: middle;\n",
       "    }\n",
       "\n",
       "    .dataframe tbody tr th {\n",
       "        vertical-align: top;\n",
       "    }\n",
       "\n",
       "    .dataframe thead th {\n",
       "        text-align: right;\n",
       "    }\n",
       "</style>\n",
       "<table border=\"1\" class=\"dataframe\">\n",
       "  <thead>\n",
       "    <tr style=\"text-align: right;\">\n",
       "      <th></th>\n",
       "      <th>App</th>\n",
       "      <th>Category</th>\n",
       "      <th>Rating</th>\n",
       "      <th>Reviews</th>\n",
       "      <th>Size</th>\n",
       "      <th>Installs</th>\n",
       "      <th>Type</th>\n",
       "      <th>Price</th>\n",
       "      <th>Last Updated</th>\n",
       "      <th>Review</th>\n",
       "      <th>Sentiment Category</th>\n",
       "      <th>Sentiment Score</th>\n",
       "    </tr>\n",
       "  </thead>\n",
       "  <tbody>\n",
       "    <tr>\n",
       "      <th>10800</th>\n",
       "      <td>GRE Flashcards</td>\n",
       "      <td>EDUCATION</td>\n",
       "      <td>4.5</td>\n",
       "      <td>13791</td>\n",
       "      <td>NaN</td>\n",
       "      <td>500000</td>\n",
       "      <td>Free</td>\n",
       "      <td>0.0</td>\n",
       "      <td>2018-06-06</td>\n",
       "      <td>Amazing app, gives tips words meaning relevant...</td>\n",
       "      <td>Positive</td>\n",
       "      <td>0.616667</td>\n",
       "    </tr>\n",
       "    <tr>\n",
       "      <th>45507</th>\n",
       "      <td>Golf GPS Rangefinder: Golf Pad</td>\n",
       "      <td>SPORTS</td>\n",
       "      <td>4.6</td>\n",
       "      <td>13098</td>\n",
       "      <td>NaN</td>\n",
       "      <td>1000000</td>\n",
       "      <td>Free</td>\n",
       "      <td>0.0</td>\n",
       "      <td>2018-07-28</td>\n",
       "      <td>I bought tags easy use. It take time get tags ...</td>\n",
       "      <td>Positive</td>\n",
       "      <td>0.567917</td>\n",
       "    </tr>\n",
       "    <tr>\n",
       "      <th>45677</th>\n",
       "      <td>Fantasy Football Manager (FPL)</td>\n",
       "      <td>SPORTS</td>\n",
       "      <td>4.4</td>\n",
       "      <td>63650</td>\n",
       "      <td>4.6</td>\n",
       "      <td>1000000</td>\n",
       "      <td>Free</td>\n",
       "      <td>0.0</td>\n",
       "      <td>2018-08-03</td>\n",
       "      <td>Entertaining,, though ads disruptive, disturbi...</td>\n",
       "      <td>Negative</td>\n",
       "      <td>-0.280000</td>\n",
       "    </tr>\n",
       "    <tr>\n",
       "      <th>18051</th>\n",
       "      <td>Couch to 10K Running Trainer</td>\n",
       "      <td>HEALTH_AND_FITNESS</td>\n",
       "      <td>4.6</td>\n",
       "      <td>10445</td>\n",
       "      <td>48.0</td>\n",
       "      <td>500000</td>\n",
       "      <td>Free</td>\n",
       "      <td>0.0</td>\n",
       "      <td>2018-07-02</td>\n",
       "      <td>Does good job interval training I wish I could...</td>\n",
       "      <td>Positive</td>\n",
       "      <td>0.333333</td>\n",
       "    </tr>\n",
       "    <tr>\n",
       "      <th>44842</th>\n",
       "      <td>Championat</td>\n",
       "      <td>SPORTS</td>\n",
       "      <td>4.3</td>\n",
       "      <td>36490</td>\n",
       "      <td>NaN</td>\n",
       "      <td>1000000</td>\n",
       "      <td>Free</td>\n",
       "      <td>0.0</td>\n",
       "      <td>2018-07-25</td>\n",
       "      <td>Tournament Table does not work</td>\n",
       "      <td>Neutral</td>\n",
       "      <td>0.000000</td>\n",
       "    </tr>\n",
       "  </tbody>\n",
       "</table>\n",
       "</div>"
      ],
      "text/plain": [
       "                                  App            Category  Rating  Reviews  \\\n",
       "10800                  GRE Flashcards           EDUCATION     4.5    13791   \n",
       "45507  Golf GPS Rangefinder: Golf Pad              SPORTS     4.6    13098   \n",
       "45677  Fantasy Football Manager (FPL)              SPORTS     4.4    63650   \n",
       "18051    Couch to 10K Running Trainer  HEALTH_AND_FITNESS     4.6    10445   \n",
       "44842                      Championat              SPORTS     4.3    36490   \n",
       "\n",
       "       Size  Installs  Type  Price Last Updated  \\\n",
       "10800   NaN    500000  Free    0.0   2018-06-06   \n",
       "45507   NaN   1000000  Free    0.0   2018-07-28   \n",
       "45677   4.6   1000000  Free    0.0   2018-08-03   \n",
       "18051  48.0    500000  Free    0.0   2018-07-02   \n",
       "44842   NaN   1000000  Free    0.0   2018-07-25   \n",
       "\n",
       "                                                  Review Sentiment Category  \\\n",
       "10800  Amazing app, gives tips words meaning relevant...           Positive   \n",
       "45507  I bought tags easy use. It take time get tags ...           Positive   \n",
       "45677  Entertaining,, though ads disruptive, disturbi...           Negative   \n",
       "18051  Does good job interval training I wish I could...           Positive   \n",
       "44842                     Tournament Table does not work            Neutral   \n",
       "\n",
       "       Sentiment Score  \n",
       "10800         0.616667  \n",
       "45507         0.567917  \n",
       "45677        -0.280000  \n",
       "18051         0.333333  \n",
       "44842         0.000000  "
      ]
     },
     "execution_count": 21,
     "metadata": {},
     "output_type": "execute_result"
    }
   ],
   "source": [
    "score_apps_table.sample(5)"
   ]
  },
  {
   "cell_type": "markdown",
   "metadata": {},
   "source": [
    "Let's now create a DataFrame that contains only the free apps from the FINANCE category, as required by the question."
   ]
  },
  {
   "cell_type": "code",
   "execution_count": 22,
   "metadata": {
    "dc": {
     "key": "4"
    }
   },
   "outputs": [],
   "source": [
    "finance_scores_table = score_apps_table[(score_apps_table['Category'] == 'FINANCE') & (score_apps_table['Type'] == 'Free')]"
   ]
  },
  {
   "cell_type": "markdown",
   "metadata": {},
   "source": [
    "The DataFrame contains 2200 columns, even though we found out above that there are only 328 apps in the 'Finance' category. This is because the same app contains multiple reviews."
   ]
  },
  {
   "cell_type": "code",
   "execution_count": 43,
   "metadata": {
    "dc": {
     "key": "4"
    }
   },
   "outputs": [],
   "source": [
    "top_10_user_feedback = pd.DataFrame(finance_scores_table.groupby('App')['Sentiment Score'].agg('mean'))"
   ]
  },
  {
   "cell_type": "code",
   "execution_count": 44,
   "metadata": {
    "dc": {
     "key": "4"
    }
   },
   "outputs": [
    {
     "data": {
      "text/plain": [
       "App\n",
       "BBVA Spain                                         0.515086\n",
       "Associated Credit Union Mobile                     0.388093\n",
       "BankMobile Vibe App                                0.353455\n",
       "A+ Mobile                                          0.329592\n",
       "Current debit card and app made for teens          0.327258\n",
       "BZWBK24 mobile                                     0.326883\n",
       "Even - organize your money, get paid early         0.283929\n",
       "Credit Karma                                       0.270052\n",
       "Fortune City - A Finance App                       0.266966\n",
       "Branch                                             0.264230\n",
       "ACE Elite                                          0.252171\n",
       "Digit Save Money Automatically                     0.250246\n",
       "CNBC: Breaking Business News & Live Market Data    0.247704\n",
       "CreditWise from Capital One                        0.239454\n",
       "Expense IQ Money Manager                           0.227506\n",
       "BBVA Compass Banking                               0.205590\n",
       "Bank of America Mobile Banking                     0.180027\n",
       "Amex Mobile                                        0.175666\n",
       "Experian - Free Credit Report                      0.170504\n",
       "Fresh EBT - Food Stamp Balance                     0.159727\n",
       "E*TRADE Mobile                                     0.153273\n",
       "Citibanamex Movil                                  0.150061\n",
       "Betterment                                         0.143252\n",
       "Banorte Movil                                      0.116999\n",
       "Google Pay                                         0.115687\n",
       "HDFC Bank MobileBanking                            0.111449\n",
       "Fox Business                                       0.088827\n",
       "Credit Sesame                                      0.088667\n",
       "Chase Mobile                                       0.048166\n",
       "Acorns - Invest Spare Change                       0.046667\n",
       "GoBank                                             0.039101\n",
       "GCash - Buy Load, Pay Bills, Send Money            0.027082\n",
       "Barclays US for Android                            0.017928\n",
       "Citizens Bank Mobile Banking                       0.013179\n",
       "Bualuang mBanking                                  0.004322\n",
       "Ecobank Mobile Banking                            -0.014860\n",
       "Bloomberg Professional                            -0.023353\n",
       "Citi Mobile®                                      -0.038731\n",
       "Discover Mobile                                   -0.041667\n",
       "Bluebird by American Express                            NaN\n",
       "Capital One® Mobile                                     NaN\n",
       "Capitec Remote Banking                                  NaN\n",
       "Cash App                                                NaN\n",
       "Chime - Mobile Banking                                  NaN\n",
       "Everlance: Free Mileage Log                             NaN\n",
       "FREE Stock Market Trading Tips                          NaN\n",
       "Name: Sentiment Score, dtype: float64"
      ]
     },
     "execution_count": 44,
     "metadata": {},
     "output_type": "execute_result"
    }
   ],
   "source": [
    "top_10_user_feedback.groupby('App')['Sentiment Score'].agg('mean').sort_values(ascending = False)"
   ]
  },
  {
   "cell_type": "code",
   "execution_count": 46,
   "metadata": {
    "dc": {
     "key": "4"
    }
   },
   "outputs": [],
   "source": [
    "top_10_user_feedback = pd.DataFrame(top_10_user_feedback.groupby('App')['Sentiment Score'].agg('mean').sort_values(ascending=False)[:10])"
   ]
  },
  {
   "cell_type": "code",
   "execution_count": 47,
   "metadata": {
    "dc": {
     "key": "4"
    },
    "scrolled": true
   },
   "outputs": [
    {
     "data": {
      "text/html": [
       "<div>\n",
       "<style scoped>\n",
       "    .dataframe tbody tr th:only-of-type {\n",
       "        vertical-align: middle;\n",
       "    }\n",
       "\n",
       "    .dataframe tbody tr th {\n",
       "        vertical-align: top;\n",
       "    }\n",
       "\n",
       "    .dataframe thead th {\n",
       "        text-align: right;\n",
       "    }\n",
       "</style>\n",
       "<table border=\"1\" class=\"dataframe\">\n",
       "  <thead>\n",
       "    <tr style=\"text-align: right;\">\n",
       "      <th></th>\n",
       "      <th>Sentiment Score</th>\n",
       "    </tr>\n",
       "    <tr>\n",
       "      <th>App</th>\n",
       "      <th></th>\n",
       "    </tr>\n",
       "  </thead>\n",
       "  <tbody>\n",
       "    <tr>\n",
       "      <th>BBVA Spain</th>\n",
       "      <td>0.515086</td>\n",
       "    </tr>\n",
       "    <tr>\n",
       "      <th>Associated Credit Union Mobile</th>\n",
       "      <td>0.388093</td>\n",
       "    </tr>\n",
       "    <tr>\n",
       "      <th>BankMobile Vibe App</th>\n",
       "      <td>0.353455</td>\n",
       "    </tr>\n",
       "    <tr>\n",
       "      <th>A+ Mobile</th>\n",
       "      <td>0.329592</td>\n",
       "    </tr>\n",
       "    <tr>\n",
       "      <th>Current debit card and app made for teens</th>\n",
       "      <td>0.327258</td>\n",
       "    </tr>\n",
       "    <tr>\n",
       "      <th>BZWBK24 mobile</th>\n",
       "      <td>0.326883</td>\n",
       "    </tr>\n",
       "    <tr>\n",
       "      <th>Even - organize your money, get paid early</th>\n",
       "      <td>0.283929</td>\n",
       "    </tr>\n",
       "    <tr>\n",
       "      <th>Credit Karma</th>\n",
       "      <td>0.270052</td>\n",
       "    </tr>\n",
       "    <tr>\n",
       "      <th>Fortune City - A Finance App</th>\n",
       "      <td>0.266966</td>\n",
       "    </tr>\n",
       "    <tr>\n",
       "      <th>Branch</th>\n",
       "      <td>0.264230</td>\n",
       "    </tr>\n",
       "  </tbody>\n",
       "</table>\n",
       "</div>"
      ],
      "text/plain": [
       "                                            Sentiment Score\n",
       "App                                                        \n",
       "BBVA Spain                                         0.515086\n",
       "Associated Credit Union Mobile                     0.388093\n",
       "BankMobile Vibe App                                0.353455\n",
       "A+ Mobile                                          0.329592\n",
       "Current debit card and app made for teens          0.327258\n",
       "BZWBK24 mobile                                     0.326883\n",
       "Even - organize your money, get paid early         0.283929\n",
       "Credit Karma                                       0.270052\n",
       "Fortune City - A Finance App                       0.266966\n",
       "Branch                                             0.264230"
      ]
     },
     "execution_count": 47,
     "metadata": {},
     "output_type": "execute_result"
    }
   ],
   "source": [
    "top_10_user_feedback"
   ]
  },
  {
   "cell_type": "code",
   "execution_count": null,
   "metadata": {},
   "outputs": [],
   "source": []
  }
 ],
 "metadata": {
  "kernelspec": {
   "display_name": "Python 3 (ipykernel)",
   "language": "python",
   "name": "python3"
  },
  "language_info": {
   "codemirror_mode": {
    "name": "ipython",
    "version": 3
   },
   "file_extension": ".py",
   "mimetype": "text/x-python",
   "name": "python",
   "nbconvert_exporter": "python",
   "pygments_lexer": "ipython3",
   "version": "3.9.12"
  }
 },
 "nbformat": 4,
 "nbformat_minor": 2
}
