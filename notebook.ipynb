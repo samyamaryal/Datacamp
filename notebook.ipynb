{
 "cells": [
  {
   "cell_type": "markdown",
   "metadata": {
    "dc": {
     "key": "4"
    },
    "deletable": false,
    "editable": false,
    "run_control": {
     "frozen": true
    },
    "tags": [
     "context"
    ]
   },
   "source": [
    "## 1. Introduction\n",
    "<p><img src=\"https://assets.datacamp.com/production/project_1197/img/google_play_store.png\" alt=\"Google Play logo\"></p>\n",
    "<p>Mobile apps are everywhere. They are easy to create and can be very lucrative from the business standpoint. Specifically, Android is expanding as an operating system and has captured more than 74% of the total market<sup><a href=\"https://www.statista.com/statistics/272698/global-market-share-held-by-mobile-operating-systems-since-2009\">[1]</a></sup>. </p>\n",
    "<p>The Google Play Store apps data has enormous potential to facilitate data-driven decisions and insights for businesses. In this notebook, we will analyze the Android app market by comparing ~10k apps in Google Play across different categories. We will also use the user reviews to draw a qualitative comparision between the apps.</p>\n",
    "<p>The dataset you will use here was scraped from Google Play Store in September 2018 and was published on <a href=\"https://www.kaggle.com/lava18/google-play-store-apps\">Kaggle</a>. Here are the details: <br>\n",
    "<br></p>\n",
    "<div style=\"background-color: #efebe4; color: #05192d; text-align:left; vertical-align: middle; padding: 15px 25px 15px 25px; line-height: 1.6;\">\n",
    "    <div style=\"font-size:20px\"><b>datasets/apps.csv</b></div>\n",
    "This file contains all the details of the apps on Google Play. There are 9 features that describe a given app.\n",
    "<ul>\n",
    "    <li><b>App:</b> Name of the app</li>\n",
    "    <li><b>Category:</b> Category of the app. Some examples are: ART_AND_DESIGN, FINANCE, COMICS, BEAUTY etc.</li>\n",
    "    <li><b>Rating:</b> The current average rating (out of 5) of the app on Google Play</li>\n",
    "    <li><b>Reviews:</b> Number of user reviews given on the app</li>\n",
    "    <li><b>Size:</b> Size of the app in MB (megabytes)</li>\n",
    "    <li><b>Installs:</b> Number of times the app was downloaded from Google Play</li>\n",
    "    <li><b>Type:</b> Whether the app is paid or free</li>\n",
    "    <li><b>Price:</b> Price of the app in US$</li>\n",
    "    <li><b>Last Updated:</b> Date on which the app was last updated on Google Play </li>\n",
    "\n",
    "</ul>\n",
    "</div>\n",
    "<div style=\"background-color: #efebe4; color: #05192d; text-align:left; vertical-align: middle; padding: 15px 25px 15px 25px; line-height: 1.6;\">\n",
    "    <div style=\"font-size:20px\"><b>datasets/user_reviews.csv</b></div>\n",
    "This file contains a random sample of 100 <i>[most helpful first](https://www.androidpolice.com/2019/01/21/google-play-stores-redesigned-ratings-and-reviews-section-lets-you-easily-filter-by-star-rating/)</i> user reviews for each app. The text in each review has been pre-processed and passed through a sentiment analyzer.\n",
    "<ul>\n",
    "    <li><b>App:</b> Name of the app on which the user review was provided. Matches the `App` column of the `apps.csv` file</li>\n",
    "    <li><b>Review:</b> The pre-processed user review text</li>\n",
    "    <li><b>Sentiment Category:</b> Sentiment category of the user review - Positive, Negative or Neutral</li>\n",
    "    <li><b>Sentiment Score:</b> Sentiment score of the user review. It lies between [-1,1]. A higher score denotes a more positive sentiment.</li>\n",
    "\n",
    "</ul>\n",
    "</div>\n",
    "<p>From here on, it will be your task to explore and manipulate the data until you are able to answer the three questions described in the instructions panel.<br></p>"
   ]
  },
  {
   "cell_type": "code",
   "execution_count": 34,
   "metadata": {
    "collapsed": true,
    "dc": {
     "key": "4"
    },
    "tags": [
     "sample_code"
    ]
   },
   "outputs": [],
   "source": [
    "import pandas as pd"
   ]
  },
  {
   "cell_type": "code",
   "execution_count": 35,
   "metadata": {
    "collapsed": true,
    "dc": {
     "key": "4"
    }
   },
   "outputs": [],
   "source": [
    "apps_original = pd.read_csv('datasets/apps.csv')\n",
    "reviews_original = pd.read_csv('datasets/user_reviews.csv')"
   ]
  },
  {
   "cell_type": "code",
   "execution_count": 36,
   "metadata": {
    "dc": {
     "key": "4"
    }
   },
   "outputs": [
    {
     "name": "stdout",
     "output_type": "stream",
     "text": [
      "<class 'pandas.core.frame.DataFrame'>\n",
      "RangeIndex: 9659 entries, 0 to 9658\n",
      "Data columns (total 9 columns):\n",
      "App             9659 non-null object\n",
      "Category        9659 non-null object\n",
      "Rating          8196 non-null float64\n",
      "Reviews         9659 non-null int64\n",
      "Size            8432 non-null float64\n",
      "Installs        9659 non-null object\n",
      "Type            9659 non-null object\n",
      "Price           9659 non-null float64\n",
      "Last Updated    9659 non-null object\n",
      "dtypes: float64(3), int64(1), object(5)\n",
      "memory usage: 679.2+ KB\n"
     ]
    }
   ],
   "source": [
    "apps_original.info()"
   ]
  },
  {
   "cell_type": "code",
   "execution_count": 37,
   "metadata": {
    "dc": {
     "key": "4"
    }
   },
   "outputs": [
    {
     "name": "stdout",
     "output_type": "stream",
     "text": [
      "<class 'pandas.core.frame.DataFrame'>\n",
      "RangeIndex: 64295 entries, 0 to 64294\n",
      "Data columns (total 4 columns):\n",
      "App                   64295 non-null object\n",
      "Review                37427 non-null object\n",
      "Sentiment Category    37432 non-null object\n",
      "Sentiment Score       37432 non-null float64\n",
      "dtypes: float64(1), object(3)\n",
      "memory usage: 2.0+ MB\n"
     ]
    }
   ],
   "source": [
    "reviews_original.info()"
   ]
  },
  {
   "cell_type": "code",
   "execution_count": 39,
   "metadata": {
    "dc": {
     "key": "4"
    }
   },
   "outputs": [
    {
     "data": {
      "text/html": [
       "<div>\n",
       "<style scoped>\n",
       "    .dataframe tbody tr th:only-of-type {\n",
       "        vertical-align: middle;\n",
       "    }\n",
       "\n",
       "    .dataframe tbody tr th {\n",
       "        vertical-align: top;\n",
       "    }\n",
       "\n",
       "    .dataframe thead th {\n",
       "        text-align: right;\n",
       "    }\n",
       "</style>\n",
       "<table border=\"1\" class=\"dataframe\">\n",
       "  <thead>\n",
       "    <tr style=\"text-align: right;\">\n",
       "      <th></th>\n",
       "      <th>App</th>\n",
       "      <th>Review</th>\n",
       "      <th>Sentiment Category</th>\n",
       "      <th>Sentiment Score</th>\n",
       "    </tr>\n",
       "  </thead>\n",
       "  <tbody>\n",
       "    <tr>\n",
       "      <th>0</th>\n",
       "      <td>10 Best Foods for You</td>\n",
       "      <td>I like eat delicious food. That's I'm cooking ...</td>\n",
       "      <td>Positive</td>\n",
       "      <td>1.00</td>\n",
       "    </tr>\n",
       "    <tr>\n",
       "      <th>1</th>\n",
       "      <td>10 Best Foods for You</td>\n",
       "      <td>This help eating healthy exercise regular basis</td>\n",
       "      <td>Positive</td>\n",
       "      <td>0.25</td>\n",
       "    </tr>\n",
       "    <tr>\n",
       "      <th>2</th>\n",
       "      <td>10 Best Foods for You</td>\n",
       "      <td>NaN</td>\n",
       "      <td>NaN</td>\n",
       "      <td>NaN</td>\n",
       "    </tr>\n",
       "    <tr>\n",
       "      <th>3</th>\n",
       "      <td>10 Best Foods for You</td>\n",
       "      <td>Works great especially going grocery store</td>\n",
       "      <td>Positive</td>\n",
       "      <td>0.40</td>\n",
       "    </tr>\n",
       "    <tr>\n",
       "      <th>4</th>\n",
       "      <td>10 Best Foods for You</td>\n",
       "      <td>Best idea us</td>\n",
       "      <td>Positive</td>\n",
       "      <td>1.00</td>\n",
       "    </tr>\n",
       "  </tbody>\n",
       "</table>\n",
       "</div>"
      ],
      "text/plain": [
       "                     App                                             Review  \\\n",
       "0  10 Best Foods for You  I like eat delicious food. That's I'm cooking ...   \n",
       "1  10 Best Foods for You    This help eating healthy exercise regular basis   \n",
       "2  10 Best Foods for You                                                NaN   \n",
       "3  10 Best Foods for You         Works great especially going grocery store   \n",
       "4  10 Best Foods for You                                       Best idea us   \n",
       "\n",
       "  Sentiment Category  Sentiment Score  \n",
       "0           Positive             1.00  \n",
       "1           Positive             0.25  \n",
       "2                NaN              NaN  \n",
       "3           Positive             0.40  \n",
       "4           Positive             1.00  "
      ]
     },
     "execution_count": 39,
     "metadata": {},
     "output_type": "execute_result"
    }
   ],
   "source": [
    "reviews_original.head()"
   ]
  },
  {
   "cell_type": "code",
   "execution_count": 40,
   "metadata": {
    "dc": {
     "key": "4"
    }
   },
   "outputs": [
    {
     "data": {
      "text/html": [
       "<div>\n",
       "<style scoped>\n",
       "    .dataframe tbody tr th:only-of-type {\n",
       "        vertical-align: middle;\n",
       "    }\n",
       "\n",
       "    .dataframe tbody tr th {\n",
       "        vertical-align: top;\n",
       "    }\n",
       "\n",
       "    .dataframe thead th {\n",
       "        text-align: right;\n",
       "    }\n",
       "</style>\n",
       "<table border=\"1\" class=\"dataframe\">\n",
       "  <thead>\n",
       "    <tr style=\"text-align: right;\">\n",
       "      <th></th>\n",
       "      <th>App</th>\n",
       "      <th>Category</th>\n",
       "      <th>Rating</th>\n",
       "      <th>Reviews</th>\n",
       "      <th>Size</th>\n",
       "      <th>Installs</th>\n",
       "      <th>Type</th>\n",
       "      <th>Price</th>\n",
       "      <th>Last Updated</th>\n",
       "    </tr>\n",
       "  </thead>\n",
       "  <tbody>\n",
       "    <tr>\n",
       "      <th>1710</th>\n",
       "      <td>THE aMAZEing Labyrinth</td>\n",
       "      <td>FAMILY</td>\n",
       "      <td>3.9</td>\n",
       "      <td>1615</td>\n",
       "      <td>1.2</td>\n",
       "      <td>10,000+</td>\n",
       "      <td>Paid</td>\n",
       "      <td>4.99</td>\n",
       "      <td>February 9, 2016</td>\n",
       "    </tr>\n",
       "    <tr>\n",
       "      <th>377</th>\n",
       "      <td>Full Screen Caller ID</td>\n",
       "      <td>COMMUNICATION</td>\n",
       "      <td>4.2</td>\n",
       "      <td>104990</td>\n",
       "      <td>10.0</td>\n",
       "      <td>5,000,000+</td>\n",
       "      <td>Free</td>\n",
       "      <td>0.00</td>\n",
       "      <td>May 15, 2018</td>\n",
       "    </tr>\n",
       "    <tr>\n",
       "      <th>3904</th>\n",
       "      <td>Zombie Avengers:(Dreamsky)Stickman War Z</td>\n",
       "      <td>GAME</td>\n",
       "      <td>4.3</td>\n",
       "      <td>13604</td>\n",
       "      <td>96.0</td>\n",
       "      <td>1,000,000+</td>\n",
       "      <td>Paid</td>\n",
       "      <td>0.99</td>\n",
       "      <td>June 26, 2018</td>\n",
       "    </tr>\n",
       "    <tr>\n",
       "      <th>2184</th>\n",
       "      <td>TouchNote: Cards &amp; Gifts</td>\n",
       "      <td>PHOTOGRAPHY</td>\n",
       "      <td>4.1</td>\n",
       "      <td>19232</td>\n",
       "      <td>28.0</td>\n",
       "      <td>1,000,000+</td>\n",
       "      <td>Free</td>\n",
       "      <td>0.00</td>\n",
       "      <td>August 6, 2018</td>\n",
       "    </tr>\n",
       "    <tr>\n",
       "      <th>6935</th>\n",
       "      <td>Morse Decoder for Ham Radio</td>\n",
       "      <td>COMMUNICATION</td>\n",
       "      <td>3.7</td>\n",
       "      <td>166</td>\n",
       "      <td>2.0</td>\n",
       "      <td>5,000+</td>\n",
       "      <td>Paid</td>\n",
       "      <td>4.99</td>\n",
       "      <td>March 14, 2017</td>\n",
       "    </tr>\n",
       "    <tr>\n",
       "      <th>8039</th>\n",
       "      <td>Bejeweled Blitz</td>\n",
       "      <td>FAMILY</td>\n",
       "      <td>4.2</td>\n",
       "      <td>222664</td>\n",
       "      <td>98.0</td>\n",
       "      <td>10,000,000+</td>\n",
       "      <td>Free</td>\n",
       "      <td>0.00</td>\n",
       "      <td>August 1, 2018</td>\n",
       "    </tr>\n",
       "    <tr>\n",
       "      <th>8356</th>\n",
       "      <td>Period Tracker, Pregnancy Calculator &amp; Calendar 🌸</td>\n",
       "      <td>HEALTH_AND_FITNESS</td>\n",
       "      <td>NaN</td>\n",
       "      <td>0</td>\n",
       "      <td>NaN</td>\n",
       "      <td>10,000+</td>\n",
       "      <td>Free</td>\n",
       "      <td>0.00</td>\n",
       "      <td>August 1, 2018</td>\n",
       "    </tr>\n",
       "    <tr>\n",
       "      <th>82</th>\n",
       "      <td>Supervision service</td>\n",
       "      <td>AUTO_AND_VEHICLES</td>\n",
       "      <td>4.0</td>\n",
       "      <td>2155</td>\n",
       "      <td>15.0</td>\n",
       "      <td>500,000+</td>\n",
       "      <td>Free</td>\n",
       "      <td>0.00</td>\n",
       "      <td>July 30, 2018</td>\n",
       "    </tr>\n",
       "    <tr>\n",
       "      <th>4130</th>\n",
       "      <td>Blurfoto : Auto blur photo background &amp; DSLR f...</td>\n",
       "      <td>PHOTOGRAPHY</td>\n",
       "      <td>4.3</td>\n",
       "      <td>2215</td>\n",
       "      <td>12.0</td>\n",
       "      <td>500,000+</td>\n",
       "      <td>Free</td>\n",
       "      <td>0.00</td>\n",
       "      <td>July 27, 2018</td>\n",
       "    </tr>\n",
       "    <tr>\n",
       "      <th>4141</th>\n",
       "      <td>AG Screen Recorder</td>\n",
       "      <td>TOOLS</td>\n",
       "      <td>3.7</td>\n",
       "      <td>7</td>\n",
       "      <td>2.7</td>\n",
       "      <td>1,000+</td>\n",
       "      <td>Free</td>\n",
       "      <td>0.00</td>\n",
       "      <td>April 3, 2018</td>\n",
       "    </tr>\n",
       "  </tbody>\n",
       "</table>\n",
       "</div>"
      ],
      "text/plain": [
       "                                                    App            Category  \\\n",
       "1710                             THE aMAZEing Labyrinth              FAMILY   \n",
       "377                               Full Screen Caller ID       COMMUNICATION   \n",
       "3904           Zombie Avengers:(Dreamsky)Stickman War Z                GAME   \n",
       "2184                           TouchNote: Cards & Gifts         PHOTOGRAPHY   \n",
       "6935                        Morse Decoder for Ham Radio       COMMUNICATION   \n",
       "8039                                    Bejeweled Blitz              FAMILY   \n",
       "8356  Period Tracker, Pregnancy Calculator & Calendar 🌸  HEALTH_AND_FITNESS   \n",
       "82                                  Supervision service   AUTO_AND_VEHICLES   \n",
       "4130  Blurfoto : Auto blur photo background & DSLR f...         PHOTOGRAPHY   \n",
       "4141                                 AG Screen Recorder               TOOLS   \n",
       "\n",
       "      Rating  Reviews  Size     Installs  Type  Price      Last Updated  \n",
       "1710     3.9     1615   1.2      10,000+  Paid   4.99  February 9, 2016  \n",
       "377      4.2   104990  10.0   5,000,000+  Free   0.00      May 15, 2018  \n",
       "3904     4.3    13604  96.0   1,000,000+  Paid   0.99     June 26, 2018  \n",
       "2184     4.1    19232  28.0   1,000,000+  Free   0.00    August 6, 2018  \n",
       "6935     3.7      166   2.0       5,000+  Paid   4.99    March 14, 2017  \n",
       "8039     4.2   222664  98.0  10,000,000+  Free   0.00    August 1, 2018  \n",
       "8356     NaN        0   NaN      10,000+  Free   0.00    August 1, 2018  \n",
       "82       4.0     2155  15.0     500,000+  Free   0.00     July 30, 2018  \n",
       "4130     4.3     2215  12.0     500,000+  Free   0.00     July 27, 2018  \n",
       "4141     3.7        7   2.7       1,000+  Free   0.00     April 3, 2018  "
      ]
     },
     "execution_count": 40,
     "metadata": {},
     "output_type": "execute_result"
    }
   ],
   "source": [
    "apps_original.sample(10)"
   ]
  },
  {
   "cell_type": "code",
   "execution_count": 41,
   "metadata": {
    "collapsed": true,
    "dc": {
     "key": "4"
    }
   },
   "outputs": [],
   "source": [
    "apps = apps_original.copy()"
   ]
  },
  {
   "cell_type": "code",
   "execution_count": 43,
   "metadata": {
    "collapsed": true,
    "dc": {
     "key": "4"
    }
   },
   "outputs": [],
   "source": [
    "chars_to_replace = [',', '+']\n",
    "\n",
    "for char in chars_to_replace:\n",
    "    apps['Installs'] = apps['Installs'].str.replace(char, '', regex=False)\n",
    "apps['Installs'] = pd.to_numeric(apps['Installs'], errors='raise')"
   ]
  },
  {
   "cell_type": "code",
   "execution_count": 44,
   "metadata": {
    "dc": {
     "key": "4"
    }
   },
   "outputs": [
    {
     "name": "stdout",
     "output_type": "stream",
     "text": [
      "<class 'pandas.core.frame.DataFrame'>\n",
      "RangeIndex: 9659 entries, 0 to 9658\n",
      "Data columns (total 9 columns):\n",
      "App             9659 non-null object\n",
      "Category        9659 non-null object\n",
      "Rating          8196 non-null float64\n",
      "Reviews         9659 non-null int64\n",
      "Size            8432 non-null float64\n",
      "Installs        9659 non-null int64\n",
      "Type            9659 non-null object\n",
      "Price           9659 non-null float64\n",
      "Last Updated    9659 non-null object\n",
      "dtypes: float64(3), int64(2), object(4)\n",
      "memory usage: 679.2+ KB\n"
     ]
    }
   ],
   "source": [
    "apps.info()"
   ]
  },
  {
   "cell_type": "code",
   "execution_count": 45,
   "metadata": {
    "dc": {
     "key": "4"
    }
   },
   "outputs": [
    {
     "data": {
      "text/html": [
       "<div>\n",
       "<style scoped>\n",
       "    .dataframe tbody tr th:only-of-type {\n",
       "        vertical-align: middle;\n",
       "    }\n",
       "\n",
       "    .dataframe tbody tr th {\n",
       "        vertical-align: top;\n",
       "    }\n",
       "\n",
       "    .dataframe thead th {\n",
       "        text-align: right;\n",
       "    }\n",
       "</style>\n",
       "<table border=\"1\" class=\"dataframe\">\n",
       "  <thead>\n",
       "    <tr style=\"text-align: right;\">\n",
       "      <th></th>\n",
       "      <th>App</th>\n",
       "      <th>Category</th>\n",
       "      <th>Rating</th>\n",
       "      <th>Reviews</th>\n",
       "      <th>Size</th>\n",
       "      <th>Installs</th>\n",
       "      <th>Type</th>\n",
       "      <th>Price</th>\n",
       "      <th>Last Updated</th>\n",
       "    </tr>\n",
       "  </thead>\n",
       "  <tbody>\n",
       "    <tr>\n",
       "      <th>9477</th>\n",
       "      <td>Wallpapers FN Herstal FNP 9</td>\n",
       "      <td>PERSONALIZATION</td>\n",
       "      <td>NaN</td>\n",
       "      <td>0</td>\n",
       "      <td>11.0</td>\n",
       "      <td>1</td>\n",
       "      <td>Free</td>\n",
       "      <td>0.0</td>\n",
       "      <td>April 12, 2018</td>\n",
       "    </tr>\n",
       "    <tr>\n",
       "      <th>4577</th>\n",
       "      <td>SNOW - AR Camera</td>\n",
       "      <td>PHOTOGRAPHY</td>\n",
       "      <td>4.3</td>\n",
       "      <td>1017237</td>\n",
       "      <td>NaN</td>\n",
       "      <td>50000000</td>\n",
       "      <td>Free</td>\n",
       "      <td>0.0</td>\n",
       "      <td>July 30, 2018</td>\n",
       "    </tr>\n",
       "    <tr>\n",
       "      <th>783</th>\n",
       "      <td>Hamilton — The Official App</td>\n",
       "      <td>ENTERTAINMENT</td>\n",
       "      <td>4.5</td>\n",
       "      <td>1575</td>\n",
       "      <td>43.0</td>\n",
       "      <td>100000</td>\n",
       "      <td>Free</td>\n",
       "      <td>0.0</td>\n",
       "      <td>July 13, 2018</td>\n",
       "    </tr>\n",
       "    <tr>\n",
       "      <th>5436</th>\n",
       "      <td>B L Enterprises</td>\n",
       "      <td>FINANCE</td>\n",
       "      <td>NaN</td>\n",
       "      <td>2</td>\n",
       "      <td>6.9</td>\n",
       "      <td>10</td>\n",
       "      <td>Free</td>\n",
       "      <td>0.0</td>\n",
       "      <td>May 11, 2018</td>\n",
       "    </tr>\n",
       "    <tr>\n",
       "      <th>1448</th>\n",
       "      <td>Run Sausage Run!</td>\n",
       "      <td>GAME</td>\n",
       "      <td>4.4</td>\n",
       "      <td>275447</td>\n",
       "      <td>NaN</td>\n",
       "      <td>10000000</td>\n",
       "      <td>Free</td>\n",
       "      <td>0.0</td>\n",
       "      <td>August 1, 2018</td>\n",
       "    </tr>\n",
       "    <tr>\n",
       "      <th>9124</th>\n",
       "      <td>Sports Lite</td>\n",
       "      <td>SPORTS</td>\n",
       "      <td>4.4</td>\n",
       "      <td>16</td>\n",
       "      <td>4.9</td>\n",
       "      <td>1000</td>\n",
       "      <td>Free</td>\n",
       "      <td>0.0</td>\n",
       "      <td>July 31, 2018</td>\n",
       "    </tr>\n",
       "    <tr>\n",
       "      <th>9353</th>\n",
       "      <td>FK Oleksandria</td>\n",
       "      <td>SPORTS</td>\n",
       "      <td>NaN</td>\n",
       "      <td>0</td>\n",
       "      <td>26.0</td>\n",
       "      <td>10</td>\n",
       "      <td>Free</td>\n",
       "      <td>0.0</td>\n",
       "      <td>February 14, 2018</td>\n",
       "    </tr>\n",
       "    <tr>\n",
       "      <th>1594</th>\n",
       "      <td>Draw.ly - Color by Number Pixel Art Coloring</td>\n",
       "      <td>FAMILY</td>\n",
       "      <td>4.4</td>\n",
       "      <td>18616</td>\n",
       "      <td>10.0</td>\n",
       "      <td>1000000</td>\n",
       "      <td>Free</td>\n",
       "      <td>0.0</td>\n",
       "      <td>August 5, 2018</td>\n",
       "    </tr>\n",
       "    <tr>\n",
       "      <th>955</th>\n",
       "      <td>DELISH KITCHEN - FREE recipe movies make food ...</td>\n",
       "      <td>FOOD_AND_DRINK</td>\n",
       "      <td>4.6</td>\n",
       "      <td>32997</td>\n",
       "      <td>13.0</td>\n",
       "      <td>1000000</td>\n",
       "      <td>Free</td>\n",
       "      <td>0.0</td>\n",
       "      <td>August 4, 2018</td>\n",
       "    </tr>\n",
       "    <tr>\n",
       "      <th>5328</th>\n",
       "      <td>BMH-BJ Congregation</td>\n",
       "      <td>LIFESTYLE</td>\n",
       "      <td>NaN</td>\n",
       "      <td>0</td>\n",
       "      <td>5.1</td>\n",
       "      <td>10</td>\n",
       "      <td>Free</td>\n",
       "      <td>0.0</td>\n",
       "      <td>June 29, 2018</td>\n",
       "    </tr>\n",
       "  </tbody>\n",
       "</table>\n",
       "</div>"
      ],
      "text/plain": [
       "                                                    App         Category  \\\n",
       "9477                        Wallpapers FN Herstal FNP 9  PERSONALIZATION   \n",
       "4577                                   SNOW - AR Camera      PHOTOGRAPHY   \n",
       "783                         Hamilton — The Official App    ENTERTAINMENT   \n",
       "5436                                    B L Enterprises          FINANCE   \n",
       "1448                                   Run Sausage Run!             GAME   \n",
       "9124                                        Sports Lite           SPORTS   \n",
       "9353                                     FK Oleksandria           SPORTS   \n",
       "1594       Draw.ly - Color by Number Pixel Art Coloring           FAMILY   \n",
       "955   DELISH KITCHEN - FREE recipe movies make food ...   FOOD_AND_DRINK   \n",
       "5328                                BMH-BJ Congregation        LIFESTYLE   \n",
       "\n",
       "      Rating  Reviews  Size  Installs  Type  Price       Last Updated  \n",
       "9477     NaN        0  11.0         1  Free    0.0     April 12, 2018  \n",
       "4577     4.3  1017237   NaN  50000000  Free    0.0      July 30, 2018  \n",
       "783      4.5     1575  43.0    100000  Free    0.0      July 13, 2018  \n",
       "5436     NaN        2   6.9        10  Free    0.0       May 11, 2018  \n",
       "1448     4.4   275447   NaN  10000000  Free    0.0     August 1, 2018  \n",
       "9124     4.4       16   4.9      1000  Free    0.0      July 31, 2018  \n",
       "9353     NaN        0  26.0        10  Free    0.0  February 14, 2018  \n",
       "1594     4.4    18616  10.0   1000000  Free    0.0     August 5, 2018  \n",
       "955      4.6    32997  13.0   1000000  Free    0.0     August 4, 2018  \n",
       "5328     NaN        0   5.1        10  Free    0.0      June 29, 2018  "
      ]
     },
     "execution_count": 45,
     "metadata": {},
     "output_type": "execute_result"
    }
   ],
   "source": [
    "apps.sample(10)"
   ]
  },
  {
   "cell_type": "code",
   "execution_count": 46,
   "metadata": {
    "collapsed": true,
    "dc": {
     "key": "4"
    }
   },
   "outputs": [],
   "source": [
    "date = pd.to_datetime(apps['Last Updated'], format = '%B %d, %Y')"
   ]
  },
  {
   "cell_type": "code",
   "execution_count": 48,
   "metadata": {
    "dc": {
     "key": "4"
    }
   },
   "outputs": [
    {
     "name": "stdout",
     "output_type": "stream",
     "text": [
      "                                                 App        Category  Rating  \\\n",
      "0     Photo Editor & Candy Camera & Grid & ScrapBook  ART_AND_DESIGN     4.1   \n",
      "1                                Coloring book moana  ART_AND_DESIGN     3.9   \n",
      "2  U Launcher Lite – FREE Live Cool Themes, Hide ...  ART_AND_DESIGN     4.7   \n",
      "3                              Sketch - Draw & Paint  ART_AND_DESIGN     4.5   \n",
      "4              Pixel Draw - Number Art Coloring Book  ART_AND_DESIGN     4.3   \n",
      "\n",
      "   Reviews  Size  Installs  Type  Price      Last Updated  \n",
      "0      159  19.0     10000  Free    0.0   January 7, 2018  \n",
      "1      967  14.0    500000  Free    0.0  January 15, 2018  \n",
      "2    87510   8.7   5000000  Free    0.0    August 1, 2018  \n",
      "3   215644  25.0  50000000  Free    0.0      June 8, 2018  \n",
      "4      967   2.8    100000  Free    0.0     June 20, 2018  \n"
     ]
    }
   ],
   "source": [
    "print(apps.head())"
   ]
  },
  {
   "cell_type": "code",
   "execution_count": 49,
   "metadata": {
    "dc": {
     "key": "4"
    }
   },
   "outputs": [],
   "source": [
    "apps['Last Updated'] = date"
   ]
  },
  {
   "cell_type": "code",
   "execution_count": 52,
   "metadata": {
    "dc": {
     "key": "4"
    }
   },
   "outputs": [
    {
     "name": "stdout",
     "output_type": "stream",
     "text": [
      "<class 'pandas.core.frame.DataFrame'>\n",
      "RangeIndex: 9659 entries, 0 to 9658\n",
      "Data columns (total 9 columns):\n",
      "App             9659 non-null object\n",
      "Category        9659 non-null object\n",
      "Rating          8196 non-null float64\n",
      "Reviews         9659 non-null int64\n",
      "Size            8432 non-null float64\n",
      "Installs        9659 non-null int64\n",
      "Type            9659 non-null object\n",
      "Price           9659 non-null float64\n",
      "Last Updated    9659 non-null datetime64[ns]\n",
      "dtypes: datetime64[ns](1), float64(3), int64(2), object(3)\n",
      "memory usage: 679.2+ KB\n",
      "None\n"
     ]
    }
   ],
   "source": [
    "print(apps.info())"
   ]
  },
  {
   "cell_type": "code",
   "execution_count": 53,
   "metadata": {
    "dc": {
     "key": "4"
    }
   },
   "outputs": [
    {
     "name": "stdout",
     "output_type": "stream",
     "text": [
      "                          App   Category  Rating  Reviews  Size  Installs  \\\n",
      "4287       Blackjack aj Poker       GAME     3.8        8   4.2      1000   \n",
      "8308  Survival: Prison Escape       GAME     4.0   127810  33.0  10000000   \n",
      "1808                 CareZone    MEDICAL     4.4    27524   NaN   1000000   \n",
      "6695                CricQuick     SPORTS     5.0       17   1.5        50   \n",
      "2522       iWnn IME for Nexus      TOOLS     3.2     2394   NaN   5000000   \n",
      "6276                  CG Jobs     FAMILY     5.0        8  14.0        10   \n",
      "7863                  DW VMAX      TOOLS     3.4      843   8.5    100000   \n",
      "5270        Sisense Mobile BI   BUSINESS     4.9       23  28.0      1000   \n",
      "843             Nedbank Money    FINANCE     4.2     6076  32.0    500000   \n",
      "3150                  B-Dubs®  LIFESTYLE     3.1     3042   NaN    500000   \n",
      "\n",
      "      Type  Price Last Updated  \n",
      "4287  Free    0.0   2016-10-19  \n",
      "8308  Free    0.0   2018-08-01  \n",
      "1808  Free    0.0   2018-07-30  \n",
      "6695  Free    0.0   2017-12-08  \n",
      "2522  Free    0.0   2014-11-13  \n",
      "6276  Free    0.0   2018-08-01  \n",
      "7863  Free    0.0   2017-05-04  \n",
      "5270  Free    0.0   2018-04-30  \n",
      "843   Free    0.0   2018-07-28  \n",
      "3150  Free    0.0   2018-07-05  \n"
     ]
    }
   ],
   "source": [
    "print(apps.sample(10))"
   ]
  }
 ],
 "metadata": {
  "kernelspec": {
   "display_name": "Python 3 (ipykernel)",
   "language": "python",
   "name": "python3"
  },
  "language_info": {
   "codemirror_mode": {
    "name": "ipython",
    "version": 3
   },
   "file_extension": ".py",
   "mimetype": "text/x-python",
   "name": "python",
   "nbconvert_exporter": "python",
   "pygments_lexer": "ipython3",
   "version": "3.9.12"
  }
 },
 "nbformat": 4,
 "nbformat_minor": 2
}
